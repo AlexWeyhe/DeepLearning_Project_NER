{
 "cells": [
  {
   "cell_type": "markdown",
   "id": "790ffd5f-8a91-4c8d-9c56-3843b8218522",
   "metadata": {},
   "source": [
    "                                            DEEP LEARNING PROJECT\n",
    "\n",
    "                                               ALEXANDER WEYHE\n",
    "\n",
    "                                      DIEGO FRASSINELLI & ANDREA FERREIRA"
   ]
  },
  {
   "cell_type": "markdown",
   "id": "c2ab1478-8b21-4595-ad63-68e7d6ed6bed",
   "metadata": {},
   "source": [
    "                                                TASK DESCRIPTION:\n",
    "The present notebook deals with Named Entity Recognition (NER). The goal is to train three different neural network models on a labeled dataset to learn recognizing named entities. To begin with, the task of NER is about identifying named entities in a text. Named entities can include: names of persons, organizations, locations, dates, and others. Once a model recognizes a named entity as such, a corresponding label is assigned to the entity, e.g. \"University of Konstanz\" -> ORG (organization), \"Konstanz\" -> LOC (location). The next cell illustrates the task of Named Entity Recognition using the spacy library.\n",
    "    "
   ]
  },
  {
   "cell_type": "code",
   "execution_count": 2,
   "id": "4f858021-02a3-4a71-a637-9556af346a5b",
   "metadata": {},
   "outputs": [
    {
     "data": {
      "text/html": [
       "<span class=\"tex2jax_ignore\"><div class=\"entities\" style=\"line-height: 2.5; direction: ltr\">\n",
       "<mark class=\"entity\" style=\"background: #7aecec; padding: 0.45em 0.6em; margin: 0 0.25em; line-height: 1; border-radius: 0.35em;\">\n",
       "    The University of Konstanz\n",
       "    <span style=\"font-size: 0.8em; font-weight: bold; line-height: 1; border-radius: 0.35em; vertical-align: middle; margin-left: 0.5rem\">ORG</span>\n",
       "</mark>\n",
       " was founded in \n",
       "<mark class=\"entity\" style=\"background: #bfe1d9; padding: 0.45em 0.6em; margin: 0 0.25em; line-height: 1; border-radius: 0.35em;\">\n",
       "    1966\n",
       "    <span style=\"font-size: 0.8em; font-weight: bold; line-height: 1; border-radius: 0.35em; vertical-align: middle; margin-left: 0.5rem\">DATE</span>\n",
       "</mark>\n",
       " and is located in the south of \n",
       "<mark class=\"entity\" style=\"background: #feca74; padding: 0.45em 0.6em; margin: 0 0.25em; line-height: 1; border-radius: 0.35em;\">\n",
       "    Germany\n",
       "    <span style=\"font-size: 0.8em; font-weight: bold; line-height: 1; border-radius: 0.35em; vertical-align: middle; margin-left: 0.5rem\">GPE</span>\n",
       "</mark>\n",
       ".</div></span>"
      ],
      "text/plain": [
       "<IPython.core.display.HTML object>"
      ]
     },
     "metadata": {},
     "output_type": "display_data"
    }
   ],
   "source": [
    "# First we import spacy and load the displacy function.\n",
    "import spacy\n",
    "from spacy import displacy\n",
    "\n",
    "# We load the specific spacy model we want to work with, here \"en_core_web_sm\".\n",
    "nlp = spacy.load(\"en_core_web_sm\")\n",
    "\n",
    "# Finally, we input our example text to the spacy pipeline which outputs all recognized entites in our text.\n",
    "text = \"The University of Konstanz was founded in 1966 and is located in the south of Germany.\"\n",
    "doc1 = nlp(text)\n",
    "displacy.render(doc1, style=\"ent\")"
   ]
  },
  {
   "cell_type": "markdown",
   "id": "a21b1c6a-0276-468d-9590-9eaa435b5677",
   "metadata": {},
   "source": [
    "                                        LOADING AND EXPLORING THE DATASET:"
   ]
  },
  {
   "cell_type": "markdown",
   "id": "55dac567-bd7c-44fb-8b30-3b93260eff30",
   "metadata": {},
   "source": [
    "The very first steps of our project will be (1) to load the dataset into our notebook and (2) explore some features of the dataset. \n",
    "\n",
    "The dataset we use is taken from kaggle: https://www.kaggle.com/datasets/thedevastator/multilingual-ner-dataset?select=val_en.csv (The dataset was originally created by: Babelscape from Huggingface https://huggingface.co/datasets/Babelscape/wikineural). It is a multilingual dataset that can be used for NER applications, i.e., training a Neural Network Model from scratch, or fine-tuning a pre-trained Language Model. The dataset comes with already sperated sets for training, validating, and testing. It consists of three columns: tokens (the sentences), ner_tags (the corresponding named entity tags for each token in the sentence), and lang (specifying the language of the sentences). For this project, I have decided to train the model on the English dataset. Consequently, the datasets for training, validating, and testing are all in English. The training set consists of 98640, the validating set of 11590, and the testing set of 11597 sentences, respectively. For the scope of this project and for making pre-processing easier, I will only use the training dataset and later seperate it into training, validating, and testing datasets.\n",
    "\n",
    "In this dataset, the labels are numbers from 0 to 8, each indicating a different entity. Below we have specified which entities the dataset features and to which number they correspond. One final note, the dataset uses the BIO-encoding, where B stands for \"Beginning\" and I stands for \"Inside\". To illustrate, imagine we want to tag the name \"Donald Duck\" in a running text. With the BIO-encoding, \"Donald\" would receive the tag \"B-PER\" and \"Duck\" the tag \"I-PER\". This should tell the model that \"Donald Duck\" is one entity of the type person, where \"Donald\" is the beginning and \"Duck\" the inside of the entity. Also, the O is used to tell the model that we are not dealing with a named entity, e.g., words such as \"the\", \"walking\", \"computer\", etc.\n",
    "\n",
    "Finally, we look at the labels itself. The dataset features PER (person, i.e., names of persons), ORG (organization, e.g., \"University of Konstanz\"), LOC (location, e.g., \"Konstanz\"), and MISC (can be roughly translated to miscellaneous entities). The MISC entity is often used for datasets that only feature PER, ORG, and LOC, and has the broad definition of entities that do not belong to the previously named ones. Finally, here is the list of numbers that correspond to each entity:\n",
    "    'O': 0 (not an entity),\n",
    "    'B-PER': 1,\n",
    "    'I-PER': 2,\n",
    "    'B-ORG': 3,\n",
    "    'I-ORG': 4,\n",
    "    'B-LOC': 5,\n",
    "    'I-LOC': 6,\n",
    "    'B-MISC': 7,\n",
    "    'I-MISC': 8."
   ]
  },
  {
   "cell_type": "code",
   "execution_count": 2,
   "id": "52e4d376-1746-45b7-8f6a-6ab39e9c99ec",
   "metadata": {},
   "outputs": [],
   "source": [
    "# Importing pandas to download the dataset into a pandas dataframe.\n",
    "import pandas as pd"
   ]
  },
  {
   "cell_type": "code",
   "execution_count": 3,
   "id": "1d9d68bf-c2ee-425e-a188-7d0a35ac16e6",
   "metadata": {},
   "outputs": [],
   "source": [
    "# First, we convert the dataset into a pandas dataframe.\n",
    "data = pd.read_csv(\"train_en.csv\")"
   ]
  },
  {
   "cell_type": "code",
   "execution_count": 3,
   "id": "d8600d20-4f9a-4129-97c1-63478c21f4b6",
   "metadata": {},
   "outputs": [
    {
     "data": {
      "text/html": [
       "<div>\n",
       "<style scoped>\n",
       "    .dataframe tbody tr th:only-of-type {\n",
       "        vertical-align: middle;\n",
       "    }\n",
       "\n",
       "    .dataframe tbody tr th {\n",
       "        vertical-align: top;\n",
       "    }\n",
       "\n",
       "    .dataframe thead th {\n",
       "        text-align: right;\n",
       "    }\n",
       "</style>\n",
       "<table border=\"1\" class=\"dataframe\">\n",
       "  <thead>\n",
       "    <tr style=\"text-align: right;\">\n",
       "      <th></th>\n",
       "      <th>tokens</th>\n",
       "      <th>ner_tags</th>\n",
       "      <th>lang</th>\n",
       "    </tr>\n",
       "  </thead>\n",
       "  <tbody>\n",
       "    <tr>\n",
       "      <th>0</th>\n",
       "      <td>['This' 'division' 'also' 'contains' 'the' 'Ve...</td>\n",
       "      <td>[0 0 0 0 0 5 6 0 0 0 0 5 0 0]</td>\n",
       "      <td>en</td>\n",
       "    </tr>\n",
       "    <tr>\n",
       "      <th>1</th>\n",
       "      <td>['\"' 'So' 'here' 'is' 'the' 'balance' 'NBC' 'h...</td>\n",
       "      <td>[0 0 0 0 0 0 3 0 0 0 0 7 8 0 0 7 8 0 0]</td>\n",
       "      <td>en</td>\n",
       "    </tr>\n",
       "    <tr>\n",
       "      <th>2</th>\n",
       "      <td>['It' 'is' 'a' 'protest' 'song' 'that' '\"' 'cr...</td>\n",
       "      <td>[0 0 0 0 0 0 0 0 0 0 0 0 0 0 0 0 0 0 0 0 0 0 0...</td>\n",
       "      <td>en</td>\n",
       "    </tr>\n",
       "    <tr>\n",
       "      <th>3</th>\n",
       "      <td>['This' 'differs' 'from' 'approaches' 'such' '...</td>\n",
       "      <td>[0 0 0 0 0 0 0 0 7 0 0 0 0 0 0 0 0]</td>\n",
       "      <td>en</td>\n",
       "    </tr>\n",
       "    <tr>\n",
       "      <th>4</th>\n",
       "      <td>['Since' 'then' ',' 'only' 'Terry' 'Bradshaw' ...</td>\n",
       "      <td>[0 0 0 0 1 2 0 0 0 0 1 2 0 0 0 0 0 1 2 0 0 0 0...</td>\n",
       "      <td>en</td>\n",
       "    </tr>\n",
       "    <tr>\n",
       "      <th>...</th>\n",
       "      <td>...</td>\n",
       "      <td>...</td>\n",
       "      <td>...</td>\n",
       "    </tr>\n",
       "    <tr>\n",
       "      <th>92715</th>\n",
       "      <td>['The' 'couple' 'had' 'a' 'son' ',' 'David' ',...</td>\n",
       "      <td>[0 0 0 0 0 0 1 0 0 0 0 0 1 0]</td>\n",
       "      <td>en</td>\n",
       "    </tr>\n",
       "    <tr>\n",
       "      <th>92716</th>\n",
       "      <td>['The' 'Home' 'Secretary' ',' 'J.' 'R.' 'Clyne...</td>\n",
       "      <td>[0 0 0 0 1 2 2 0 0 0 0 0 0 0 0]</td>\n",
       "      <td>en</td>\n",
       "    </tr>\n",
       "    <tr>\n",
       "      <th>92717</th>\n",
       "      <td>['At' 'the' 'time' 'of' 'her' 'birth' ',' 'she...</td>\n",
       "      <td>[0 0 0 0 0 0 0 0 0 0 0 0 0 0 0 0 0 1 2 0]</td>\n",
       "      <td>en</td>\n",
       "    </tr>\n",
       "    <tr>\n",
       "      <th>92718</th>\n",
       "      <td>['The' 'film' 'was' 'based' 'on' 'the' 'Broadw...</td>\n",
       "      <td>[0 0 0 0 0 0 7 0 0 0 0 0 0]</td>\n",
       "      <td>en</td>\n",
       "    </tr>\n",
       "    <tr>\n",
       "      <th>92719</th>\n",
       "      <td>['The' 'couple' 'had' 'two' 'children' '(' 'bo...</td>\n",
       "      <td>[0 0 0 0 0 0 0 0 0 7 0 0 1 0 0 0 0 1 0 0 0 0 0...</td>\n",
       "      <td>en</td>\n",
       "    </tr>\n",
       "  </tbody>\n",
       "</table>\n",
       "<p>92720 rows × 3 columns</p>\n",
       "</div>"
      ],
      "text/plain": [
       "                                                  tokens  \\\n",
       "0      ['This' 'division' 'also' 'contains' 'the' 'Ve...   \n",
       "1      ['\"' 'So' 'here' 'is' 'the' 'balance' 'NBC' 'h...   \n",
       "2      ['It' 'is' 'a' 'protest' 'song' 'that' '\"' 'cr...   \n",
       "3      ['This' 'differs' 'from' 'approaches' 'such' '...   \n",
       "4      ['Since' 'then' ',' 'only' 'Terry' 'Bradshaw' ...   \n",
       "...                                                  ...   \n",
       "92715  ['The' 'couple' 'had' 'a' 'son' ',' 'David' ',...   \n",
       "92716  ['The' 'Home' 'Secretary' ',' 'J.' 'R.' 'Clyne...   \n",
       "92717  ['At' 'the' 'time' 'of' 'her' 'birth' ',' 'she...   \n",
       "92718  ['The' 'film' 'was' 'based' 'on' 'the' 'Broadw...   \n",
       "92719  ['The' 'couple' 'had' 'two' 'children' '(' 'bo...   \n",
       "\n",
       "                                                ner_tags lang  \n",
       "0                          [0 0 0 0 0 5 6 0 0 0 0 5 0 0]   en  \n",
       "1                [0 0 0 0 0 0 3 0 0 0 0 7 8 0 0 7 8 0 0]   en  \n",
       "2      [0 0 0 0 0 0 0 0 0 0 0 0 0 0 0 0 0 0 0 0 0 0 0...   en  \n",
       "3                    [0 0 0 0 0 0 0 0 7 0 0 0 0 0 0 0 0]   en  \n",
       "4      [0 0 0 0 1 2 0 0 0 0 1 2 0 0 0 0 0 1 2 0 0 0 0...   en  \n",
       "...                                                  ...  ...  \n",
       "92715                      [0 0 0 0 0 0 1 0 0 0 0 0 1 0]   en  \n",
       "92716                    [0 0 0 0 1 2 2 0 0 0 0 0 0 0 0]   en  \n",
       "92717          [0 0 0 0 0 0 0 0 0 0 0 0 0 0 0 0 0 1 2 0]   en  \n",
       "92718                        [0 0 0 0 0 0 7 0 0 0 0 0 0]   en  \n",
       "92719  [0 0 0 0 0 0 0 0 0 7 0 0 1 0 0 0 0 1 0 0 0 0 0...   en  \n",
       "\n",
       "[92720 rows x 3 columns]"
      ]
     },
     "execution_count": 3,
     "metadata": {},
     "output_type": "execute_result"
    }
   ],
   "source": [
    "data"
   ]
  },
  {
   "cell_type": "code",
   "execution_count": 7,
   "id": "d8e240a3-f0e3-445c-aa21-67def85f5cf7",
   "metadata": {},
   "outputs": [
    {
     "data": {
      "text/plain": [
       "(\"['This' 'division' 'also' 'contains' 'the' 'Ventana' 'Wilderness' ','\\n 'home' 'to' 'the' 'California' 'condor' '.']\",\n",
       " '[0 0 0 0 0 5 6 0 0 0 0 5 0 0]')"
      ]
     },
     "execution_count": 7,
     "metadata": {},
     "output_type": "execute_result"
    }
   ],
   "source": [
    "# Here, we check the first sentence and its corresponding NER tags.\n",
    "data[\"tokens\"][0], data[\"ner_tags\"][0]"
   ]
  },
  {
   "cell_type": "markdown",
   "id": "bf712d53-9a4e-4a9d-8d58-f8be52a18eed",
   "metadata": {},
   "source": [
    "                                                        PRE-PROCESSING:\n",
    "Having a look at the dataset gives us a first impression of what we have to do for pre-processing. The problem with this dataset that arises is the type of the tokens and ner_tags column. Here, as we can see in the cell above, we are dealing with strings. But, we want to convert it to a list of string tokens (for the sentences) and a list of integer values (for the NER tags). This will be the first problem we have to deal with. "
   ]
  },
  {
   "cell_type": "code",
   "execution_count": 13,
   "id": "84fe32b9-6779-4d43-8f0e-54e75acdf02b",
   "metadata": {
    "scrolled": true
   },
   "outputs": [
    {
     "data": {
      "text/plain": [
       "list"
      ]
     },
     "execution_count": 13,
     "metadata": {},
     "output_type": "execute_result"
    }
   ],
   "source": [
    "import re\n",
    "\n",
    "# This function takes a string as input and should remove the characters \"[\", \"]\", and \"'\" from the input.\n",
    "def pre_process_tokens(sent):\n",
    "    # We create a simple regular expression that matches \"[\", \"]\", or \"'\" and removes it from the string.\n",
    "    sent = re.sub(r\"[\\[\\]']\", '', sent)\n",
    "    # Now we tokenize the string by whitespace, which gives us a list of tokens.\n",
    "    sent = sent.split()\n",
    "    # We finally return the modified string (which is now a list).\n",
    "    return sent\n",
    "\n",
    "# We then apply this function to our data.\n",
    "data[\"tokens\"] = data[\"tokens\"].apply(pre_process_tokens)\n",
    "\n",
    "# Finally, we make sure that the data now consists of lists by checking its type of the first entry.\n",
    "type(data[\"tokens\"][0])"
   ]
  },
  {
   "cell_type": "code",
   "execution_count": 6,
   "id": "d230e61e-d7d0-450b-983f-d87ca7ab8996",
   "metadata": {},
   "outputs": [
    {
     "name": "stdout",
     "output_type": "stream",
     "text": [
      "<class 'list'>\n",
      "This <class 'str'>\n",
      "division <class 'str'>\n",
      "also <class 'str'>\n",
      "contains <class 'str'>\n",
      "the <class 'str'>\n",
      "Ventana <class 'str'>\n",
      "Wilderness <class 'str'>\n",
      ", <class 'str'>\n",
      "home <class 'str'>\n",
      "to <class 'str'>\n",
      "the <class 'str'>\n",
      "California <class 'str'>\n",
      "condor <class 'str'>\n",
      ". <class 'str'>\n"
     ]
    }
   ],
   "source": [
    "# As an example, we will now look at the first sentence of our data.\n",
    "print(type(data[\"tokens\"][0]))\n",
    "\n",
    "for token in data[\"tokens\"][0]:\n",
    "    print(token, type(token))"
   ]
  },
  {
   "cell_type": "markdown",
   "id": "3ffbe20d-e914-4b37-9462-1b7dbddbdc37",
   "metadata": {},
   "source": [
    "Now we made sure that our sentences in the data are a list of tokens. This was necessary because we want to convert each sentence in an array of numbers to input into our model.\n",
    "The same problem arises with our labels. Here, we have to take a different approach. At the end, we want to have a list that consists of integer values for our labels and not of strings."
   ]
  },
  {
   "cell_type": "code",
   "execution_count": 20,
   "id": "f00d2cad-5f5e-4b91-865d-00732710e961",
   "metadata": {},
   "outputs": [
    {
     "data": {
      "text/plain": [
       "list"
      ]
     },
     "execution_count": 20,
     "metadata": {},
     "output_type": "execute_result"
    }
   ],
   "source": [
    "# This function takes a string consisting of numbers as input and should transform it into a list of numbers as integer types.\n",
    "def pre_process_labels(data):\n",
    "    # First, we strip off from the string the following characters: \"[\", \"]\", and all whitespaces.\n",
    "    data = re.sub(r\"[\\[\\]\\s]\", \"\", data)\n",
    "    # We then convert the string to a list.\n",
    "    data = list(data)\n",
    "    # Finally, we convert the numbers in the list from the type string to integer and return the new list.\n",
    "    data = [int(i) for i in data]\n",
    "    return data\n",
    "\n",
    "\n",
    "# We then apply this function to the data.\n",
    "data[\"ner_tags\"] = data[\"ner_tags\"].apply(pre_process_labels)\n",
    "\n",
    "# Finally, we make sure that the the data now consists of lists by checking its type of the first entry.\n",
    "type(data[\"ner_tags\"][0])"
   ]
  },
  {
   "cell_type": "code",
   "execution_count": 6,
   "id": "0d751337-4ab4-455a-9e49-ba7b57ee633f",
   "metadata": {},
   "outputs": [
    {
     "name": "stdout",
     "output_type": "stream",
     "text": [
      "<class 'list'>\n",
      "0 <class 'int'>\n",
      "0 <class 'int'>\n",
      "0 <class 'int'>\n",
      "0 <class 'int'>\n",
      "0 <class 'int'>\n",
      "5 <class 'int'>\n",
      "6 <class 'int'>\n",
      "0 <class 'int'>\n",
      "0 <class 'int'>\n",
      "0 <class 'int'>\n",
      "0 <class 'int'>\n",
      "5 <class 'int'>\n",
      "0 <class 'int'>\n",
      "0 <class 'int'>\n"
     ]
    }
   ],
   "source": [
    "# As an example, we will now look at the tags for the first sentence.\n",
    "print(type(data[\"ner_tags\"][0]))\n",
    "\n",
    "for token in data[\"ner_tags\"][0]:\n",
    "    print(token, type(token))"
   ]
  },
  {
   "cell_type": "markdown",
   "id": "fb75bab3-df19-4b04-83d3-9fbefa29de03",
   "metadata": {},
   "source": [
    "We have now converted our data into an appropriate format that we can use to input to our model. We can now easily extract the columns \"tokens\" and \"ner_tags\" from our dataframe. "
   ]
  },
  {
   "cell_type": "markdown",
   "id": "256ddbcd-5953-47f6-9386-1f0b0a7042cf",
   "metadata": {},
   "source": [
    "One last step that we have to do with the dataset is to add POS-tags for each token in our sentences. The reason for doing this is because the first model should be trained with features, namely the POS-tags."
   ]
  },
  {
   "cell_type": "code",
   "execution_count": 14,
   "id": "80f95f71-b0fc-44a1-a760-de12a6e9b931",
   "metadata": {},
   "outputs": [],
   "source": [
    "# For POS-tagging we use the built-in pos_tag() function from nltk.\n",
    "from nltk import pos_tag\n",
    "\n",
    "# This function takes a nested list as input (containing a tokenized list for each of the sentences) and returns a list of\n",
    "# POS-tags for each sentence.\n",
    "def create_pos_tags(data):\n",
    "    pos_tags = []\n",
    "    # We loop through the data and select each sentence.\n",
    "    for sent in data:\n",
    "        # We POS-tag each sentence.\n",
    "        temp_sent = pos_tag(sent)\n",
    "        # The nltk pos_tag() function returns a list of tuples containing each word and its POS-tag. This list comprehension\n",
    "        # only selects the tag from each tuple. Here, we use \"_, tag\" to indicate that we are aware of the datastructure\n",
    "        # (tuple), but we only want to extract the second element.\n",
    "        append_lst = [tag for _, tag in temp_sent]\n",
    "        # The list with the tags is appended to the pos_tags list.\n",
    "        pos_tags.append(append_lst)\n",
    "    \n",
    "    return pos_tags\n",
    "\n",
    "\n",
    "tags_data = create_pos_tags(data[\"tokens\"])"
   ]
  },
  {
   "cell_type": "code",
   "execution_count": 10,
   "id": "1efd8890-8e63-47ef-a9e6-c3b9fd0a5968",
   "metadata": {},
   "outputs": [
    {
     "name": "stdout",
     "output_type": "stream",
     "text": [
      "This ----> DT\n",
      "division ----> NN\n",
      "also ----> RB\n",
      "contains ----> VBZ\n",
      "the ----> DT\n",
      "Ventana ----> NNP\n",
      "Wilderness ----> NNP\n",
      ", ----> ,\n",
      "home ----> NN\n",
      "to ----> TO\n",
      "the ----> DT\n",
      "California ----> NNP\n",
      "condor ----> NN\n",
      ". ----> .\n"
     ]
    }
   ],
   "source": [
    "# To illustrate, we now have a list of POS-tags corresponding to each sentence in our data.\n",
    "for token, tag in zip(data[\"tokens\"][0], tags_data[0]):\n",
    "    print(token, \"---->\", tag)"
   ]
  },
  {
   "cell_type": "markdown",
   "id": "89141051-41fd-4d54-9d7d-2fb5c36dacd3",
   "metadata": {},
   "source": [
    "                                                EXPLORING THE DATA:\n",
    "In this section, we want to find out the lengths of the sentences. This is a crucial step for when we are going to do padding and truncation later."
   ]
  },
  {
   "cell_type": "code",
   "execution_count": 5,
   "id": "74acc6e5-dfde-4722-a39d-7c684f5962b2",
   "metadata": {},
   "outputs": [
    {
     "name": "stdout",
     "output_type": "stream",
     "text": [
      "The longest sentence in the dataset has 165 tokens.\n"
     ]
    }
   ],
   "source": [
    "# This function will return (1) a sorted list of the lenghts of each sentence, and (2) the length of the longest sentence. \n",
    "def sentence_length(data):\n",
    "    len_sent = []\n",
    "    max_len = 0\n",
    "    \n",
    "    # We select each sentence in the data, compute its lenght and append it to the list with all sentence lengths.\n",
    "    for sent in data:\n",
    "        len_sent.append(len(sent))\n",
    "        \n",
    "        # If the length of the selected sentence is longer than the previously longest sentence, we update the length of\n",
    "        # the longest sentence.\n",
    "        if len(sent) > max_len:\n",
    "            max_len = len(sent)\n",
    "\n",
    "    return sorted(len_sent), max_len\n",
    "\n",
    "\n",
    "len_sentences, longest_sent = sentence_length(data[\"tokens\"])\n",
    "print(f\"The longest sentence in the dataset has {longest_sent} tokens.\")"
   ]
  },
  {
   "cell_type": "code",
   "execution_count": 6,
   "id": "9941ffd3-0529-4340-b9b0-4f57330952a8",
   "metadata": {},
   "outputs": [
    {
     "data": {
      "image/png": "[encoded data removed]",
      "text/plain": [
       "<Figure size 640x480 with 1 Axes>"
      ]
     },
     "metadata": {},
     "output_type": "display_data"
    }
   ],
   "source": [
    "# Note: this code was taken from Andrea's tutorial on NER.\n",
    "# This plot shows the distribution of the sentence lenghts for our data.\n",
    "import matplotlib.pyplot as plt\n",
    "\n",
    "plt.style.use(\"ggplot\")\n",
    "plt.hist(len_sentences, color = 'b', bins=200)\n",
    "plt.show()\n"
   ]
  },
  {
   "cell_type": "code",
   "execution_count": 8,
   "id": "6743a8d5-74bb-46d8-909d-b8f104dfa754",
   "metadata": {},
   "outputs": [],
   "source": [
    "# Interpreting the distribution for the sentence lenghts, we can determine a maximum length of 65 for padding/truncating.\n",
    "max_pad = 65"
   ]
  },
  {
   "cell_type": "code",
   "execution_count": 8,
   "id": "92831f29-faef-46e9-be70-8d8d52caa99b",
   "metadata": {},
   "outputs": [
    {
     "data": {
      "image/png": "[encoded data removed]",
      "text/plain": [
       "<Figure size 640x480 with 1 Axes>"
      ]
     },
     "metadata": {},
     "output_type": "display_data"
    }
   ],
   "source": [
    "# Distributions of labels.\n",
    "import numpy as np\n",
    "\n",
    "# This dictionary stores the number of each NER-tag and assigns a count of zero for all values. Since the number of non-\n",
    "# entities will obviously have the highest count, we will leave this out. Also, it does not give us any valuable \n",
    "# information about the distribution of the labels.\n",
    "label_count = {1: 0, 2: 0, 3: 0, 4: 0, 5: 0, 6: 0, 7: 0, 8: 0}\n",
    "\n",
    "# We select each list in our data[\"ner_tags\"] column that consists of all the ner_tags for a given sentence.\n",
    "for labels in data[\"ner_tags\"]:\n",
    "    # We then loop thorugh the list and select each NER-tag.\n",
    "    for label in labels:\n",
    "        # If the label is in our dictionary, we increase its count. We use this if-statement because we do not want to \n",
    "        # count the non-entities.\n",
    "        if label in label_count:\n",
    "            label_count[label] += 1\n",
    "\n",
    "# Finally, we plot a simple horizontal barchart using matplotlib.\n",
    "x = np.array([label_count[i] for i in range(1, len(label_count) + 1)])\n",
    "y = np.array(['B-PER', 'I-PER', 'B-ORG', 'I-ORG', 'B-LOC', 'I-LOC', 'B-MISC', 'I-MISC'])\n",
    "\n",
    "plt.barh(y, x, color='b')\n",
    "plt.show()"
   ]
  },
  {
   "cell_type": "markdown",
   "id": "07b67744",
   "metadata": {},
   "source": [
    "From the plot we can infer that our dataset seems to be skewed. The number for each NER-tag is not balanced in our dataset. We will have to take this into account when interpreting our model. Additionally, in this plot we did not include tokens that are non-entities, this will be also important for our model interpretation at the end."
   ]
  },
  {
   "cell_type": "markdown",
   "id": "5a270f16-75f9-4e28-a783-43db11c88df1",
   "metadata": {},
   "source": [
    "                                        PREPARING THE DATA FOR THE MODEL:\n",
    "In this step, the goal is to convert the data into a format a neural network can \"understand\". This means, we have to represent the text data as numbers. Here, we will first use the built-in Keras Tokenizer which basically gives each token in our data an unique index. We can specify how many words the tokenizer should consider. Words that are not in the vocabulary will be tagged with the OOV token, i.e. \"out of vocabulary.\" We will convert the data into sequences and then perform padding. Padding is needed because we need to have a fixed length for our input. The max_len we have specified in the previous step, defines how long each input should be. If a sequence is shorter then max_len, we will add 0 (zeros) to fill the remaining empty spots. If a sequence is longer then max_len, we will have to reduce its length to fit the input length (this is called truncating)."
   ]
  },
  {
   "cell_type": "code",
   "execution_count": 9,
   "id": "f664c37d-d099-4306-900f-f04fc0e573f4",
   "metadata": {},
   "outputs": [
    {
     "name": "stderr",
     "output_type": "stream",
     "text": [
      "2024-08-15 11:07:03.502538: I tensorflow/core/platform/cpu_feature_guard.cc:193] This TensorFlow binary is optimized with oneAPI Deep Neural Network Library (oneDNN) to use the following CPU instructions in performance-critical operations:  AVX2 FMA\n",
      "To enable them in other operations, rebuild TensorFlow with the appropriate compiler flags.\n"
     ]
    }
   ],
   "source": [
    "import keras\n",
    "from tensorflow.keras.preprocessing.text import Tokenizer\n",
    "from tensorflow.keras.preprocessing.sequence import pad_sequences\n",
    "\n",
    "# First, we define how many words the tokenizer should consider - we will use 15000 as our maximum of words.\n",
    "max_words = 15000\n",
    "\n",
    "# Then we initiate the Tokenizer with the number of words and the <OOV> token.\n",
    "tokenizer = Tokenizer(num_words=max_words, oov_token=\"<OOV>\")\n",
    "tokenizer.fit_on_texts(data[\"tokens\"])\n",
    "\n",
    "# We store the indexes for the words in a variable.\n",
    "word_index = tokenizer.word_index\n",
    "\n",
    "# We convert the text into sequences. Based on the the output of the tokenizer, each sentence will be now represented as a\n",
    "# a sequence of integers. Here, we will use the built-in texts_to_sequences() function from Keras.\n",
    "sequences = tokenizer.texts_to_sequences(data[\"tokens\"])\n",
    "\n",
    "# Finally, we will perform padding on the sequences of integers, with Keras' pad_sequences().\n",
    "padded_sequences = pad_sequences(sequences, maxlen=max_pad, padding='post', truncating='post')"
   ]
  },
  {
   "cell_type": "code",
   "execution_count": 23,
   "id": "1b96d023-b772-436b-bf0a-9af7b5f27b39",
   "metadata": {},
   "outputs": [
    {
     "name": "stdout",
     "output_type": "stream",
     "text": [
      "{'O': 0, 'B-PER': 1, 'I-PER': 2, 'B-ORG': 3, 'I-ORG': 4, 'B-LOC': 5, 'I-LOC': 6, 'B-MISC': 7, 'I-MISC': 8}\n",
      "There are 9 unique NER-tags in the corpus\n"
     ]
    }
   ],
   "source": [
    "# This dictionary holds the corresponding number as a value for each NER-tag.\n",
    "index_ner_tags = {'O': 0, 'B-PER': 1, 'I-PER': 2, 'B-ORG': 3, 'I-ORG': 4, 'B-LOC': 5, 'I-LOC': 6, 'B-MISC': 7, 'I-MISC': 8}\n",
    "num_ner_tags = len(index_ner_tags)\n",
    "print(index_ner_tags)\n",
    "print(f\"There are {num_ner_tags} unique NER-tags in the corpus\")"
   ]
  },
  {
   "cell_type": "code",
   "execution_count": 21,
   "id": "47d5e2f8-b03e-4bbb-b7c5-4acd4a9c68f0",
   "metadata": {},
   "outputs": [],
   "source": [
    "# After having padded the sentences, we will now do the same procedure for the NER-tags.\n",
    "padded_ner_tags = pad_sequences(data[\"ner_tags\"], maxlen=max_pad, padding='post', truncating='post')"
   ]
  },
  {
   "cell_type": "code",
   "execution_count": 18,
   "id": "53446bbc-242b-4b5b-8b36-556909e1eb58",
   "metadata": {},
   "outputs": [
    {
     "data": {
      "text/plain": [
       "(array([0, 0, 0, 0, 0, 5, 6, 0, 0, 0, 0, 5, 0, 0, 0, 0, 0, 0, 0, 0, 0, 0,\n",
       "        0, 0, 0, 0, 0, 0, 0, 0, 0, 0, 0, 0, 0, 0, 0, 0, 0, 0, 0, 0, 0, 0,\n",
       "        0, 0, 0, 0, 0, 0, 0, 0, 0, 0, 0, 0, 0, 0, 0, 0, 0, 0, 0, 0, 0],\n",
       "       dtype=int32),\n",
       " array([   32,   765,    31,   886,     2,     1,  5074,     3,   146,\n",
       "           10,     2,   543, 11771,     4,     0,     0,     0,     0,\n",
       "            0,     0,     0,     0,     0,     0,     0,     0,     0,\n",
       "            0,     0,     0,     0,     0,     0,     0,     0,     0,\n",
       "            0,     0,     0,     0,     0,     0,     0,     0,     0,\n",
       "            0,     0,     0,     0,     0,     0,     0,     0,     0,\n",
       "            0,     0,     0,     0,     0,     0,     0,     0,     0,\n",
       "            0,     0], dtype=int32))"
      ]
     },
     "execution_count": 18,
     "metadata": {},
     "output_type": "execute_result"
    }
   ],
   "source": [
    "padded_ner_tags[0], padded_sequences[0]"
   ]
  },
  {
   "cell_type": "code",
   "execution_count": 19,
   "id": "6697a04b-c171-4ff4-b372-9fe326c1dc57",
   "metadata": {},
   "outputs": [
    {
     "data": {
      "text/plain": [
       "((92720, 65), (92720, 65))"
      ]
     },
     "execution_count": 19,
     "metadata": {},
     "output_type": "execute_result"
    }
   ],
   "source": [
    "padded_ner_tags.shape, padded_sequences.shape"
   ]
  },
  {
   "cell_type": "code",
   "execution_count": 24,
   "id": "d7c598eb-835b-46f7-82ff-e06e2b75236f",
   "metadata": {},
   "outputs": [],
   "source": [
    "# We will now transform our labels to categorical because we are dealing with a multi-classification task.\n",
    "from tensorflow.keras.utils import to_categorical\n",
    "\n",
    "# Note: this line of code was taken from Andrea's NER tutorial.\n",
    "# to_categorical uses one-hot encoding to identify which NER-tag we refer to. To briefly explain, each token in our\n",
    "# list of NER-tags will be now represented as a one-hot encoded list. That means, each index of this list represents\n",
    "# one named entity tag. The index for the corresponding named entity tag will have a 1, all other indexes are zeros. \n",
    "padded_ner_tags = [to_categorical(i, num_classes=num_ner_tags) for i in padded_ner_tags]"
   ]
  },
  {
   "cell_type": "code",
   "execution_count": 21,
   "id": "f975a947-0ff4-437e-ad2c-d13776e62856",
   "metadata": {
    "tags": []
   },
   "outputs": [
    {
     "data": {
      "text/plain": [
       "array([[1., 0., 0., 0., 0., 0., 0., 0., 0.],\n",
       "       [1., 0., 0., 0., 0., 0., 0., 0., 0.],\n",
       "       [1., 0., 0., 0., 0., 0., 0., 0., 0.],\n",
       "       [1., 0., 0., 0., 0., 0., 0., 0., 0.],\n",
       "       [1., 0., 0., 0., 0., 0., 0., 0., 0.],\n",
       "       [0., 0., 0., 0., 0., 1., 0., 0., 0.],\n",
       "       [0., 0., 0., 0., 0., 0., 1., 0., 0.],\n",
       "       [1., 0., 0., 0., 0., 0., 0., 0., 0.],\n",
       "       [1., 0., 0., 0., 0., 0., 0., 0., 0.],\n",
       "       [1., 0., 0., 0., 0., 0., 0., 0., 0.],\n",
       "       [1., 0., 0., 0., 0., 0., 0., 0., 0.],\n",
       "       [0., 0., 0., 0., 0., 1., 0., 0., 0.],\n",
       "       [1., 0., 0., 0., 0., 0., 0., 0., 0.],\n",
       "       [1., 0., 0., 0., 0., 0., 0., 0., 0.],\n",
       "       [1., 0., 0., 0., 0., 0., 0., 0., 0.],\n",
       "       [1., 0., 0., 0., 0., 0., 0., 0., 0.],\n",
       "       [1., 0., 0., 0., 0., 0., 0., 0., 0.],\n",
       "       [1., 0., 0., 0., 0., 0., 0., 0., 0.],\n",
       "       [1., 0., 0., 0., 0., 0., 0., 0., 0.],\n",
       "       [1., 0., 0., 0., 0., 0., 0., 0., 0.],\n",
       "       [1., 0., 0., 0., 0., 0., 0., 0., 0.],\n",
       "       [1., 0., 0., 0., 0., 0., 0., 0., 0.],\n",
       "       [1., 0., 0., 0., 0., 0., 0., 0., 0.],\n",
       "       [1., 0., 0., 0., 0., 0., 0., 0., 0.],\n",
       "       [1., 0., 0., 0., 0., 0., 0., 0., 0.],\n",
       "       [1., 0., 0., 0., 0., 0., 0., 0., 0.],\n",
       "       [1., 0., 0., 0., 0., 0., 0., 0., 0.],\n",
       "       [1., 0., 0., 0., 0., 0., 0., 0., 0.],\n",
       "       [1., 0., 0., 0., 0., 0., 0., 0., 0.],\n",
       "       [1., 0., 0., 0., 0., 0., 0., 0., 0.],\n",
       "       [1., 0., 0., 0., 0., 0., 0., 0., 0.],\n",
       "       [1., 0., 0., 0., 0., 0., 0., 0., 0.],\n",
       "       [1., 0., 0., 0., 0., 0., 0., 0., 0.],\n",
       "       [1., 0., 0., 0., 0., 0., 0., 0., 0.],\n",
       "       [1., 0., 0., 0., 0., 0., 0., 0., 0.],\n",
       "       [1., 0., 0., 0., 0., 0., 0., 0., 0.],\n",
       "       [1., 0., 0., 0., 0., 0., 0., 0., 0.],\n",
       "       [1., 0., 0., 0., 0., 0., 0., 0., 0.],\n",
       "       [1., 0., 0., 0., 0., 0., 0., 0., 0.],\n",
       "       [1., 0., 0., 0., 0., 0., 0., 0., 0.],\n",
       "       [1., 0., 0., 0., 0., 0., 0., 0., 0.],\n",
       "       [1., 0., 0., 0., 0., 0., 0., 0., 0.],\n",
       "       [1., 0., 0., 0., 0., 0., 0., 0., 0.],\n",
       "       [1., 0., 0., 0., 0., 0., 0., 0., 0.],\n",
       "       [1., 0., 0., 0., 0., 0., 0., 0., 0.],\n",
       "       [1., 0., 0., 0., 0., 0., 0., 0., 0.],\n",
       "       [1., 0., 0., 0., 0., 0., 0., 0., 0.],\n",
       "       [1., 0., 0., 0., 0., 0., 0., 0., 0.],\n",
       "       [1., 0., 0., 0., 0., 0., 0., 0., 0.],\n",
       "       [1., 0., 0., 0., 0., 0., 0., 0., 0.],\n",
       "       [1., 0., 0., 0., 0., 0., 0., 0., 0.],\n",
       "       [1., 0., 0., 0., 0., 0., 0., 0., 0.],\n",
       "       [1., 0., 0., 0., 0., 0., 0., 0., 0.],\n",
       "       [1., 0., 0., 0., 0., 0., 0., 0., 0.],\n",
       "       [1., 0., 0., 0., 0., 0., 0., 0., 0.],\n",
       "       [1., 0., 0., 0., 0., 0., 0., 0., 0.],\n",
       "       [1., 0., 0., 0., 0., 0., 0., 0., 0.],\n",
       "       [1., 0., 0., 0., 0., 0., 0., 0., 0.],\n",
       "       [1., 0., 0., 0., 0., 0., 0., 0., 0.],\n",
       "       [1., 0., 0., 0., 0., 0., 0., 0., 0.],\n",
       "       [1., 0., 0., 0., 0., 0., 0., 0., 0.],\n",
       "       [1., 0., 0., 0., 0., 0., 0., 0., 0.],\n",
       "       [1., 0., 0., 0., 0., 0., 0., 0., 0.],\n",
       "       [1., 0., 0., 0., 0., 0., 0., 0., 0.],\n",
       "       [1., 0., 0., 0., 0., 0., 0., 0., 0.]], dtype=float32)"
      ]
     },
     "execution_count": 21,
     "metadata": {},
     "output_type": "execute_result"
    }
   ],
   "source": [
    "padded_ner_tags[0]"
   ]
  },
  {
   "cell_type": "markdown",
   "id": "4a6d7c0c-6d81-4153-9875-62c869ade14c",
   "metadata": {},
   "source": [
    "Finally, we will have to transform our list that holds all POS-tags for each sentences into a numerical representation. To achieve this, we will proceed as follows: (1) we loop through the list and extract all unique POS-tags in our dataset, (2) we create a dictionary where each tag is assigned a unique index, (3) we loop through each list with the POS-tags and substitute the string tag with its corresponding index."
   ]
  },
  {
   "cell_type": "code",
   "execution_count": 15,
   "id": "8a753dc7-2870-4916-9473-95dbc799fa56",
   "metadata": {},
   "outputs": [],
   "source": [
    "# Note: This code is based on code from Chollet's book (see p. 182)\n",
    "# Tis function will return the unique POS-tags.\n",
    "def extract_unique_pos_tags(data):\n",
    "    unique_tags = {}\n",
    "    \n",
    "    # We select each list with POS-tags corresponding to each sentence.\n",
    "    for sent in data:\n",
    "        # We select each tag in the list.\n",
    "        for tag in sent:\n",
    "            # If the tag is not in our uniq_tags dictionary, we will create a new key with the POS-tag and assign it a\n",
    "            # unique index as values (we simply take the lenght of the dictionary and add 1).\n",
    "            if tag not in unique_tags:\n",
    "                unique_tags[tag] = len(unique_tags) + 1\n",
    "    \n",
    "    return unique_tags\n",
    "\n",
    "\n",
    "pos_tags_index = extract_unique_pos_tags(tags_data)"
   ]
  },
  {
   "cell_type": "code",
   "execution_count": 31,
   "id": "6bddd7c9-4436-4fb9-b324-741b41fe8652",
   "metadata": {
    "tags": []
   },
   "outputs": [
    {
     "name": "stdout",
     "output_type": "stream",
     "text": [
      "{'DT': 1, 'NN': 2, 'RB': 3, 'VBZ': 4, 'NNP': 5, ',': 6, 'TO': 7, '.': 8, 'NNS': 9, 'VB': 10, ':': 11, 'PRP': 12, 'WDT': 13, 'JJ': 14, 'IN': 15, 'CC': 16, 'VBN': 17, 'VBP': 18, 'CD': 19, 'RBR': 20, 'VBD': 21, 'PRP$': 22, 'VBG': 23, 'MD': 24, 'RP': 25, 'RBS': 26, '(': 27, ')': 28, 'NNPS': 29, 'JJS': 30, 'JJR': 31, 'FW': 32, 'WRB': 33, 'WP': 34, 'PDT': 35, '#': 36, '$': 37, 'EX': 38, 'WP$': 39, 'SYM': 40, 'POS': 41, 'LS': 42, \"''\": 43, 'UH': 44, '``': 45}\n",
      "There are 45 unique POS-tags.\n"
     ]
    }
   ],
   "source": [
    "print(pos_tags_index)\n",
    "num_unique_pos = len(pos_tags_index)\n",
    "\n",
    "print(f\"There are {num_unique_pos} unique POS-tags.\")"
   ]
  },
  {
   "cell_type": "code",
   "execution_count": 16,
   "id": "94636119-fa02-4d06-8d52-d4fbda52a5dd",
   "metadata": {},
   "outputs": [],
   "source": [
    "# In this step we substitute the POS-tags with their corresponding indexes from the dictionary.\n",
    "pos_tags_numeric = []\n",
    "\n",
    "# We select each list of tags.\n",
    "for sent in tags_data:\n",
    "    # We create a temporary list to append to pos_tags_numeric.\n",
    "    temp_nums = []\n",
    "    # We select each POS-tag in the list and use it as a key for the pos_tags_index dictionary and append the value\n",
    "    # (i.e. its unique index) to the temporary list.\n",
    "    for tag in sent:\n",
    "        temp_nums.append(pos_tags_index[tag])\n",
    "    # Finally, we append the temporary list to pos_tags_numeric.\n",
    "    pos_tags_numeric.append(temp_nums)"
   ]
  },
  {
   "cell_type": "code",
   "execution_count": 25,
   "id": "5b6d217a-e599-4854-94d7-31dacc54d93d",
   "metadata": {},
   "outputs": [
    {
     "name": "stdout",
     "output_type": "stream",
     "text": [
      "DT ------> 1\n",
      "NN ------> 2\n",
      "RB ------> 3\n",
      "VBZ ------> 4\n",
      "DT ------> 1\n",
      "NNP ------> 5\n",
      "NNP ------> 5\n",
      ", ------> 6\n",
      "NN ------> 2\n",
      "TO ------> 7\n",
      "DT ------> 1\n",
      "NNP ------> 5\n",
      "NN ------> 2\n",
      ". ------> 8\n",
      "{'DT': 1, 'NN': 2, 'RB': 3, 'VBZ': 4, 'NNP': 5, ',': 6, 'TO': 7, '.': 8, 'NNS': 9, 'VB': 10, ':': 11, 'PRP': 12, 'WDT': 13, 'JJ': 14, 'IN': 15, 'CC': 16, 'VBN': 17, 'VBP': 18, 'CD': 19, 'RBR': 20, 'VBD': 21, 'PRP$': 22, 'VBG': 23, 'MD': 24, 'RP': 25, 'RBS': 26, '(': 27, ')': 28, 'NNPS': 29, 'JJS': 30, 'JJR': 31, 'FW': 32, 'WRB': 33, 'WP': 34, 'PDT': 35, '#': 36, '$': 37, 'EX': 38, 'WP$': 39, 'SYM': 40, 'POS': 41, 'LS': 42, \"''\": 43, 'UH': 44, '``': 45}\n"
     ]
    }
   ],
   "source": [
    "# To illustrate, we will look at the POS-tags for the first sentence and its corresponding unique indexes. Also, we\n",
    "# will print the look-up dictionary to make sure we assigned the correct index.\n",
    "for tag, num in zip(tags_data[0], pos_tags_numeric[0]):\n",
    "    print(f\"{tag} ------> {num}\")\n",
    "print(pos_tags_index)"
   ]
  },
  {
   "cell_type": "code",
   "execution_count": 26,
   "id": "9231e38c-c2a7-48fe-947f-03215709ba97",
   "metadata": {},
   "outputs": [],
   "source": [
    "# The sequences of the POS-tags have to be padded as well.\n",
    "padded_pos_tags = pad_sequences(pos_tags_numeric, maxlen=max_pad, padding='post', truncating='post')"
   ]
  },
  {
   "cell_type": "code",
   "execution_count": 27,
   "id": "d6f8f6d2-fd41-4fb9-8b19-69d6ecaf15df",
   "metadata": {},
   "outputs": [
    {
     "data": {
      "text/plain": [
       "array([1, 2, 3, 4, 1, 5, 5, 6, 2, 7, 1, 5, 2, 8, 0, 0, 0, 0, 0, 0, 0, 0,\n",
       "       0, 0, 0, 0, 0, 0, 0, 0, 0, 0, 0, 0, 0, 0, 0, 0, 0, 0, 0, 0, 0, 0,\n",
       "       0, 0, 0, 0, 0, 0, 0, 0, 0, 0, 0, 0, 0, 0, 0, 0, 0, 0, 0, 0, 0],\n",
       "      dtype=int32)"
      ]
     },
     "execution_count": 27,
     "metadata": {},
     "output_type": "execute_result"
    }
   ],
   "source": [
    "padded_pos_tags[0]"
   ]
  },
  {
   "cell_type": "code",
   "execution_count": 27,
   "id": "5554d3ad-8965-46c0-ba6c-54b2b6ca7b31",
   "metadata": {},
   "outputs": [],
   "source": [
    "# Before we compile our first model, we want to split our data in training and testing sets. We will use sklearn's\n",
    "# train_test_split function. First, we will split the sentences and its corresponding labels. Then, we also split our \n",
    "# sequences of POS-tags that we need for the first model.\n",
    "from sklearn.model_selection import train_test_split\n",
    "\n",
    "# x_train and y_train will consist of the sentences and y_train and y_test will consist of the corresponding labels.\n",
    "# The size of the test set will be 0.1 (10%) of the dataset.\n",
    "x_train, x_test, y_train, y_test = train_test_split(padded_sequences, padded_ner_tags, test_size=0.1)\n",
    "\n",
    "# We will use the same function for the POS-tags. However, since we do not need any labels and only want to split the\n",
    "# sequences in the same sizes as for x_train, x_test, etc., we will use \"_, _\". The function expects to return four \n",
    "# sets, but we only want two (i.e. the split sets for the POS-tags). Also, by using the same function as above, we \n",
    "# ensure that we have the exact same split. Otherwise, the sequences of POS-tags might not be matching with the \n",
    "# sequences of sentences and their named entity tags.\n",
    "train_pos, test_pos, _, _ = train_test_split(padded_pos_tags, padded_ner_tags, test_size=0.1)"
   ]
  },
  {
   "cell_type": "code",
   "execution_count": 29,
   "id": "3050e983-7234-4178-b644-eeb952f5d461",
   "metadata": {},
   "outputs": [
    {
     "name": "stdout",
     "output_type": "stream",
     "text": [
      "Shape train: (83448, 65)\n",
      "Shape test: (9272, 65)\n",
      "Shape pos_train: (83448, 65)\n",
      "Shape pos_test: (9272, 65)\n"
     ]
    }
   ],
   "source": [
    "# Here, we are making sure that we have the same size for the splits.\n",
    "print(f\"Shape train: {x_train.shape}\\nShape test: {x_test.shape}\\nShape pos_train: {train_pos.shape}\\nShape pos_test: {test_pos.shape}\")"
   ]
  },
  {
   "cell_type": "markdown",
   "id": "5898f793-c445-4b71-909c-e2a930c79119",
   "metadata": {},
   "source": [
    "                                                        MODEL 1:\n",
    "For the first model, we will use POS-tags as features. That means that besides the text input, the sentences, we will have a second input, namely the \n",
    "corresponding POS-tags for each sentence. To build such a model, we will first define two embedding layers, one for the sentences and the other for the POS-tags. Then, we will use keras' layers.concatenate() function to combine both embedding layers. Lastly, we will compile our model and proceed to the training\n",
    "phase. \n",
    "\n",
    "NOTE: The code for this model, specifically the code for multi-input models, is based on the Chollet book (pp. 238-39)."
   ]
  },
  {
   "cell_type": "code",
   "execution_count": 29,
   "id": "c20e3efb-c416-44f5-81a3-2afebf73fe62",
   "metadata": {},
   "outputs": [],
   "source": [
    "# First we will load all the necessary built-in functions from keras.\n",
    "from keras.models import Model, Sequential\n",
    "from keras import layers\n",
    "from keras import Input"
   ]
  },
  {
   "cell_type": "code",
   "execution_count": 32,
   "id": "0ccfc84b-36f1-4d02-b2ef-e578f7035a1b",
   "metadata": {},
   "outputs": [],
   "source": [
    "# We will start with the embedding layer for our text input.\n",
    "\n",
    "# First we define the input size which is defined in the max_pad variable (65).\n",
    "text_input = Input(shape=(max_pad,), name='text_input')\n",
    "\n",
    "# We will now define the embedding layer for the text input. The input dimesnion is the size of our vocabulary (15000), the input lenght is the length for\n",
    "# padding (65), and we define the output dimensions as 64. This function will embed the inputs into a sequence of vectors with the size of 64.\n",
    "embedded_text = layers.Embedding(input_dim=max_words, output_dim=64, input_length=max_pad)(text_input)\n",
    "\n",
    "# Finally we will encode the vectors into a single vector with a LSTM.\n",
    "encoded_text = layers.LSTM(32, return_sequences=True)(embedded_text)\n",
    "\n",
    "# We will now perform the same process for the embedding POS-tags, but with different instances for the layers.\n",
    "pos_input = Input(shape=(max_pad,), name='pos_input')\n",
    "\n",
    "# The embedding layer with an output dimension of 32. The input dimension is the numebr of unique POS-tags.\n",
    "embedded_pos = layers.Embedding(input_dim=num_unique_pos, output_dim=32, input_length=max_pad)(pos_input)\n",
    "\n",
    "# Finally, the LSTM layer.\n",
    "encoded_pos = layers.LSTM(16, return_sequences=True)(embedded_pos)\n",
    "\n",
    "# Now, we will concatenate both layers.\n",
    "concatenated = layers.concatenate([encoded_text, encoded_pos])\n",
    "\n",
    "# In the final step, we will define an output layer for the model. Here, we will use a dense layer with the amount of named entity tags as output. Meaning\n",
    "# the model will output a probability score for each named entity label for a specific input. For the probability score, we will use softmax. Softmax computes\n",
    "# a probability score for each possible output; the sum of all scores for each output will be 1. The label with the highest probability score, will be the\n",
    "# tag that the model outputs. This output layer will be added \"on top\" of the concatenated layer.\n",
    "answer = layers.Dense(num_ner_tags, activation='softmax')(concatenated)"
   ]
  },
  {
   "cell_type": "code",
   "execution_count": 32,
   "id": "a306210c-2ab7-496b-b2cc-78c9a9e99eea",
   "metadata": {},
   "outputs": [
    {
     "name": "stdout",
     "output_type": "stream",
     "text": [
      "Model: \"model\"\n",
      "__________________________________________________________________________________________________\n",
      " Layer (type)                   Output Shape         Param #     Connected to                     \n",
      "==================================================================================================\n",
      " text_input (InputLayer)        [(None, 65)]         0           []                               \n",
      "                                                                                                  \n",
      " pos_input (InputLayer)         [(None, 65)]         0           []                               \n",
      "                                                                                                  \n",
      " embedding (Embedding)          (None, 65, 64)       960000      ['text_input[0][0]']             \n",
      "                                                                                                  \n",
      " embedding_1 (Embedding)        (None, 65, 32)       1440        ['pos_input[0][0]']              \n",
      "                                                                                                  \n",
      " lstm (LSTM)                    (None, 65, 32)       12416       ['embedding[0][0]']              \n",
      "                                                                                                  \n",
      " lstm_1 (LSTM)                  (None, 65, 16)       3136        ['embedding_1[0][0]']            \n",
      "                                                                                                  \n",
      " concatenate (Concatenate)      (None, 65, 48)       0           ['lstm[0][0]',                   \n",
      "                                                                  'lstm_1[0][0]']                 \n",
      "                                                                                                  \n",
      " dense (Dense)                  (None, 65, 9)        441         ['concatenate[0][0]']            \n",
      "                                                                                                  \n",
      "==================================================================================================\n",
      "Total params: 977,433\n",
      "Trainable params: 977,433\n",
      "Non-trainable params: 0\n",
      "__________________________________________________________________________________________________\n"
     ]
    }
   ],
   "source": [
    "# We will now compile the model. It will have two inputs and the corresponding input sizes we defined above as well as the softmax output layer.\n",
    "model1 = Model([text_input, pos_input], answer)\n",
    "\n",
    "model1.summary()\n",
    "\n",
    "# We will use the \"rmsprop\" as optimizer bacause it was also used in other notebooks for the same task (we will, however, experiment with the optimizer in the\n",
    "# other models). Since we have more than two labels, we use \"categorical_crossentropy\" as the loss function. The metrics will be accuracy.\n",
    "model1.compile(optimizer='rmsprop', loss='categorical_crossentropy', metrics=['accuracy'])"
   ]
  },
  {
   "cell_type": "code",
   "execution_count": 33,
   "id": "ab73c2fb-e0db-4261-9862-4de19774e6c6",
   "metadata": {
    "tags": []
   },
   "outputs": [
    {
     "name": "stdout",
     "output_type": "stream",
     "text": [
      "Epoch 1/5\n"
     ]
    },
    {
     "name": "stderr",
     "output_type": "stream",
     "text": [
      "2024-08-10 14:36:57.820222: I tensorflow/compiler/xla/stream_executor/cuda/cuda_dnn.cc:428] Loaded cuDNN version 8500\n",
      "2024-08-10 14:36:57.891548: I tensorflow/compiler/xla/service/service.cc:173] XLA service 0x7f297c0ce910 initialized for platform CUDA (this does not guarantee that XLA will be used). Devices:\n",
      "2024-08-10 14:36:57.891596: I tensorflow/compiler/xla/service/service.cc:181]   StreamExecutor device (0): Quadro RTX 5000, Compute Capability 7.5\n",
      "2024-08-10 14:36:57.891602: I tensorflow/compiler/xla/service/service.cc:181]   StreamExecutor device (1): Quadro RTX 5000, Compute Capability 7.5\n",
      "2024-08-10 14:36:57.891605: I tensorflow/compiler/xla/service/service.cc:181]   StreamExecutor device (2): Quadro RTX 5000, Compute Capability 7.5\n",
      "2024-08-10 14:36:57.896856: I tensorflow/compiler/mlir/tensorflow/utils/dump_mlir_util.cc:268] disabling MLIR crash reproducer, set env var `MLIR_CRASH_REPRODUCER_DIRECTORY` to enable.\n",
      "2024-08-10 14:36:57.967842: I tensorflow/tsl/platform/default/subprocess.cc:304] Start cannot spawn child process: No such file or directory\n",
      "2024-08-10 14:36:57.986426: I tensorflow/compiler/jit/xla_compilation_cache.cc:477] Compiled cluster using XLA!  This line is logged at most once for the lifetime of the process.\n"
     ]
    },
    {
     "name": "stdout",
     "output_type": "stream",
     "text": [
      "1174/1174 [==============================] - 31s 23ms/step - loss: 0.1802 - accuracy: 0.9594 - val_loss: 0.1120 - val_accuracy: 0.9668\n",
      "Epoch 2/5\n",
      "1174/1174 [==============================] - 12s 10ms/step - loss: 0.0898 - accuracy: 0.9726 - val_loss: 0.0796 - val_accuracy: 0.9761\n",
      "Epoch 3/5\n",
      "1174/1174 [==============================] - 10s 9ms/step - loss: 0.0711 - accuracy: 0.9784 - val_loss: 0.0704 - val_accuracy: 0.9791\n",
      "Epoch 4/5\n",
      "1174/1174 [==============================] - 10s 9ms/step - loss: 0.0625 - accuracy: 0.9812 - val_loss: 0.0629 - val_accuracy: 0.9812\n",
      "Epoch 5/5\n",
      "1174/1174 [==============================] - 10s 8ms/step - loss: 0.0575 - accuracy: 0.9826 - val_loss: 0.0604 - val_accuracy: 0.9818\n"
     ]
    }
   ],
   "source": [
    "# Training the model. We will input both the the sentences (x_train) as well as the pos tags (train_pos), and the \n",
    "# one-hot encoded labels for the named entities (y_train) by converting it to a numpy array. The batch size will be 64 \n",
    "# (that means we will use 64 samples from the training data for training the model). We will train the model over 5 \n",
    "# epochs. And finally, we define the split for the validation set as 0.1 (10% of the training data).\n",
    "history1 = model1.fit([x_train, train_pos], np.array(y_train), batch_size=64, epochs=5, validation_split=0.1)"
   ]
  },
  {
   "cell_type": "code",
   "execution_count": 36,
   "id": "2d4c5533-1696-456e-aeb5-85e14ec295c6",
   "metadata": {},
   "outputs": [
    {
     "name": "stdout",
     "output_type": "stream",
     "text": [
      "290/290 [==============================] - 2s 5ms/step - loss: 0.0597 - accuracy: 0.9822\n"
     ]
    },
    {
     "data": {
      "text/plain": [
       "[0.05973879620432854, 0.9821962118148804]"
      ]
     },
     "execution_count": 36,
     "metadata": {},
     "output_type": "execute_result"
    }
   ],
   "source": [
    "# Now we are going to evaluate the model's performance on the test data. In this step, we can see how the model performs on data that it has not yet seen\n",
    "# before. In other words, how good is the model at transferring its knwoledge? x_test are the test sentences, pos_test are the corresponding POS-tags, and\n",
    "# y_test (again transferred to a numpy array) are the named entity labels.\n",
    "model1.evaluate([x_test, test_pos], np.array(y_test))"
   ]
  },
  {
   "cell_type": "code",
   "execution_count": 35,
   "id": "72c4c0d5-4d0a-4cc7-ad91-9b3bf9ac9522",
   "metadata": {},
   "outputs": [
    {
     "data": {
      "image/png": "[encoded data removed]",
      "text/plain": [
       "<Figure size 640x480 with 1 Axes>"
      ]
     },
     "metadata": {},
     "output_type": "display_data"
    },
    {
     "data": {
      "image/png": "[encoded data removed]",
      "text/plain": [
       "<Figure size 640x480 with 1 Axes>"
      ]
     },
     "metadata": {},
     "output_type": "display_data"
    }
   ],
   "source": [
    "# Note: This code is based on the various notebooks from the course.\n",
    "# We will now visualize the training and validation accurary and loss for our first model.\n",
    "loss1 = history1.history['loss']\n",
    "val_loss1 = history1.history['val_loss']\n",
    "acc1 = history1.history['accuracy']\n",
    "val_acc1 = history1.history['val_accuracy']\n",
    "\n",
    "epochs1 = range(1, len(loss1) + 1) \n",
    "\n",
    "plt.plot(epochs1, acc1, 'b', linestyle = 'dashdot', label='Training acc')\n",
    "plt.plot(epochs1, val_acc1, 'r', linewidth = '3', label='Validation acc')\n",
    "plt.title('Training and validation accuracy Model 1')\n",
    "plt.xlabel(\"epochs\")\n",
    "plt.ylabel(\"accuracy\")\n",
    "plt.legend()\n",
    "\n",
    "plt.figure()\n",
    "\n",
    "plt.plot(epochs1, loss1, 'b', linestyle = 'dashdot', label='Training loss')\n",
    "plt.plot(epochs1, val_loss1, 'r', linewidth = '3', label='Validation loss')\n",
    "plt.title('Training and validation loss Model 1')\n",
    "plt.xlabel(\"epochs\")\n",
    "plt.ylabel(\"loss\")\n",
    "plt.legend()\n",
    "\n",
    "plt.show()"
   ]
  },
  {
   "cell_type": "markdown",
   "id": "17a8dc3f-c910-48d6-b3b8-77f48e3977a3",
   "metadata": {},
   "source": [
    "                                                    MODEL 2:\n",
    "For our second model, we will use pre-trained, static word embeddings. Pre-trained means that for a set of vocabulary, each word has been assigned a word embedding. There are several algorithms for creating word embeddings, e.g., word2vec, GloVe etc. Although all these algorithms have a different approach of creating word embeddings, they have one thing in common: they are static word embeddings, in contrast to contextual word embeddings (more about contextual embeddings in the third model). Static word embeddings have a fixed embedding for each word in the vocabulary. In other words, the embeddings do not change. For our model, we will use the pre-trained word embeddings from GloVe, which can be downloaded here: https://nlp.stanford.edu/projects/glove/. From the GloVe word embeddings, we will use the embeddings with a dimension of 100. \n",
    "\n",
    "Note: The code for loading the embeddings and preparing a word-embeddings matrix, is taken from the Chollet book (pp. 190-91)"
   ]
  },
  {
   "cell_type": "code",
   "execution_count": 43,
   "id": "21eff145-2658-4779-9ff2-8c683d87d2ff",
   "metadata": {},
   "outputs": [
    {
     "name": "stdout",
     "output_type": "stream",
     "text": [
      "Found 400000 word vectors.\n"
     ]
    }
   ],
   "source": [
    "# The first step is to load the word embeddings in this notebook. When we have loaded the embeddings, we will\n",
    "# parse through the text file and map each word to its vector representation. We perform this \n",
    "# step because GloVe provides us with a text file and we have to extract all words and their vector representations \n",
    "# and convert them into a look-up dictionary (key = word, value = vector representation).\n",
    "\n",
    "# This dictionary will hold the words and their vector representations.\n",
    "embeddings_index = {}\n",
    "\n",
    "# We open the GloVe file.\n",
    "f = open('glove.6B.100d.txt')\n",
    "\n",
    "# We iterate through each line in the file.\n",
    "for line in f:\n",
    "    # We tokenize the line by whitespace. We now have a list that looks like this [\"word\", \"float1\", \"float2\", ...].\n",
    "    values = line.split()\n",
    "    # We can now extract the first element, i.e., the word...\n",
    "    word = values[0]\n",
    "    # And also the remaining elements from the list, i.e., the floating numbers that make up the vector representation.\n",
    "    coefs = np.asarray(values[1:], dtype='float32')\n",
    "    # Finally we create an dictionary entry with word as key and vector as value.\n",
    "    embeddings_index[word] = coefs\n",
    "\n",
    "f.close()\n",
    "\n",
    "print(f\"Found {len(embeddings_index)} word vectors.\")"
   ]
  },
  {
   "cell_type": "code",
   "execution_count": 44,
   "id": "9a2b2db4-6517-4289-8219-0d61c51e2796",
   "metadata": {},
   "outputs": [],
   "source": [
    "# In the second step, we will build an embedding matrix. This embedding matrix will be loaded later into an embedding\n",
    "# layer of our model. The idea is to extract the pre-trained vector representations for each word in our vocabulary \n",
    "# (as long as its index is smaller than the maximum size of our vocabulary).\n",
    "\n",
    "# We set the mebdding dimension to 100.\n",
    "embedding_dim = 100\n",
    "\n",
    "# We create the mebdding matrix of the size of our vocabulary x the embedding dimension. We fill the matrix at the\n",
    "# beginning only with zeros.\n",
    "embedding_matrix = np.zeros((max_words, embedding_dim))\n",
    "\n",
    "# We iterate through the words and indexes in our vocabulary.\n",
    "for word, i in word_index.items():\n",
    "    # We make sure the index is not greater than our vocabulary size.\n",
    "    if i < max_words:\n",
    "        # We extract the pre-trained vector representation for the selected word.\n",
    "        embedding_vector = embeddings_index.get(word)\n",
    "        # Before we add the vector to the embedding matrix, we make sure that the word existed in the pre-trained\n",
    "        # word embeddings.\n",
    "        if embedding_vector is not None:\n",
    "            # We add the index and the vector representation to our embedding matrix.\n",
    "            embedding_matrix[i] = embedding_vector"
   ]
  },
  {
   "cell_type": "code",
   "execution_count": 45,
   "id": "068ec8e3-e85f-4cb4-beec-13470f2a901d",
   "metadata": {},
   "outputs": [
    {
     "name": "stdout",
     "output_type": "stream",
     "text": [
      "Model: \"sequential_13\"\n",
      "_________________________________________________________________\n",
      " Layer (type)                Output Shape              Param #   \n",
      "=================================================================\n",
      " embedding (Embedding)       (None, 65, 100)           1500000   \n",
      "                                                                 \n",
      " lstm_15 (LSTM)              (None, 65, 100)           80400     \n",
      "                                                                 \n",
      " dense_14 (Dense)            (None, 65, 9)             909       \n",
      "                                                                 \n",
      "=================================================================\n",
      "Total params: 1,581,309\n",
      "Trainable params: 1,581,309\n",
      "Non-trainable params: 0\n",
      "_________________________________________________________________\n"
     ]
    }
   ],
   "source": [
    "# We will now configure our second model that uses our pre-trained word embeddings and see how well it performs. This\n",
    "# model will use one LSTM layer with 100 units, and a dense output layer with the number of unique named entity tags\n",
    "# and againg with the \"softmax\" to compute a probability score for each label that sums to 1.\n",
    "\n",
    "# We are using a sequential model.\n",
    "model2 = Sequential()\n",
    "\n",
    "# We add an embedding layer with max_words (the number of words in our vocabulary), embedding_dim (embedding dimensions\n",
    "# of 100), and max_pad (the input length of 65).\n",
    "model2.add(layers.Embedding(max_words, embedding_dim, input_length=max_pad))\n",
    "\n",
    "# Now we add the LSTM layer with 100 units that will return the sequences.\n",
    "model2.add(layers.LSTM(100, return_sequences=True))\n",
    "\n",
    "# Now we add a Dense output layer with the number of output labels and softmax.\n",
    "model2.add(layers.Dense(num_ner_tags, activation='softmax'))\n",
    "\n",
    "model2.summary()"
   ]
  },
  {
   "cell_type": "code",
   "execution_count": 46,
   "id": "b716de0f-f1e7-48b1-adac-053d232bc829",
   "metadata": {},
   "outputs": [],
   "source": [
    "# Before we train the model on the data, we load the GloVe embeddings into our model.\n",
    "model2.layers[0].set_weights([embedding_matrix])\n",
    "model2.layers[0].trainable = False"
   ]
  },
  {
   "cell_type": "code",
   "execution_count": 56,
   "id": "16b7fc5d-5590-445d-842d-efd0e5d091ae",
   "metadata": {},
   "outputs": [
    {
     "name": "stdout",
     "output_type": "stream",
     "text": [
      "Epoch 1/3\n"
     ]
    },
    {
     "name": "stderr",
     "output_type": "stream",
     "text": [
      "2024-08-14 13:04:39.703021: I tensorflow/compiler/xla/stream_executor/cuda/cuda_dnn.cc:428] Loaded cuDNN version 8500\n",
      "2024-08-14 13:04:39.760788: I tensorflow/compiler/xla/service/service.cc:173] XLA service 0x55eaea053ef0 initialized for platform CUDA (this does not guarantee that XLA will be used). Devices:\n",
      "2024-08-14 13:04:39.760843: I tensorflow/compiler/xla/service/service.cc:181]   StreamExecutor device (0): Quadro RTX 5000, Compute Capability 7.5\n",
      "2024-08-14 13:04:39.760853: I tensorflow/compiler/xla/service/service.cc:181]   StreamExecutor device (1): Quadro RTX 5000, Compute Capability 7.5\n",
      "2024-08-14 13:04:39.760860: I tensorflow/compiler/xla/service/service.cc:181]   StreamExecutor device (2): Quadro RTX 5000, Compute Capability 7.5\n",
      "2024-08-14 13:04:39.767681: I tensorflow/compiler/mlir/tensorflow/utils/dump_mlir_util.cc:268] disabling MLIR crash reproducer, set env var `MLIR_CRASH_REPRODUCER_DIRECTORY` to enable.\n",
      "2024-08-14 13:04:39.842738: I tensorflow/tsl/platform/default/subprocess.cc:304] Start cannot spawn child process: No such file or directory\n",
      "2024-08-14 13:04:39.869297: I tensorflow/compiler/jit/xla_compilation_cache.cc:477] Compiled cluster using XLA!  This line is logged at most once for the lifetime of the process.\n"
     ]
    },
    {
     "name": "stdout",
     "output_type": "stream",
     "text": [
      "2347/2347 [==============================] - 18s 7ms/step - loss: 0.1047 - accuracy: 0.9725 - val_loss: 0.0686 - val_accuracy: 0.9795\n",
      "Epoch 2/3\n",
      "2347/2347 [==============================] - 16s 7ms/step - loss: 0.0635 - accuracy: 0.9809 - val_loss: 0.0597 - val_accuracy: 0.9818\n",
      "Epoch 3/3\n",
      "2347/2347 [==============================] - 16s 7ms/step - loss: 0.0568 - accuracy: 0.9827 - val_loss: 0.0550 - val_accuracy: 0.9830\n"
     ]
    }
   ],
   "source": [
    "# Now we compile the model. This time, we will experiment a bit with the optimizer and use \"ADAM\" instead of \"rmsprop\".\n",
    "model2.compile(optimizer='ADAM', loss='categorical_crossentropy', metrics=['accuracy'])\n",
    "\n",
    "# Finally, we fit the training data and the labels to the model. We change the batch size from 64 to 32 and will train over 3 instead of 5 epochs.\n",
    "history2 = model2.fit(x_train, np.array(y_train), batch_size=32, epochs=3, validation_split=0.1)"
   ]
  },
  {
   "cell_type": "code",
   "execution_count": 57,
   "id": "9ae185dc-1ba4-4e8e-9516-cc1dae989d9d",
   "metadata": {},
   "outputs": [
    {
     "name": "stdout",
     "output_type": "stream",
     "text": [
      "290/290 [==============================] - 1s 4ms/step - loss: 0.0566 - accuracy: 0.9825\n"
     ]
    },
    {
     "data": {
      "text/plain": [
       "[0.056595586240291595, 0.9825496077537537]"
      ]
     },
     "execution_count": 57,
     "metadata": {},
     "output_type": "execute_result"
    }
   ],
   "source": [
    "# We will also evaluate this model on our test data.\n",
    "model2.evaluate(x_test, np.array(y_test))"
   ]
  },
  {
   "cell_type": "code",
   "execution_count": 58,
   "id": "6d7251b6-5cc9-491b-83a1-5d520d3b176c",
   "metadata": {},
   "outputs": [
    {
     "data": {
      "image/png": "[encoded data removed]",
      "text/plain": [
       "<Figure size 640x480 with 1 Axes>"
      ]
     },
     "metadata": {},
     "output_type": "display_data"
    },
    {
     "data": {
      "image/png": "[encoded data removed]",
      "text/plain": [
       "<Figure size 640x480 with 1 Axes>"
      ]
     },
     "metadata": {},
     "output_type": "display_data"
    }
   ],
   "source": [
    "# Note: This code is based on the various notebooks from the course.\n",
    "# We will now visualize the training and validation accurary and loss for our first model.\n",
    "loss2 = history2.history['loss']\n",
    "val_loss2 = history2.history['val_loss']\n",
    "acc2 = history2.history['accuracy']\n",
    "val_acc2 = history2.history['val_accuracy']\n",
    "\n",
    "epochs2 = range(1, len(loss2) + 1) \n",
    "\n",
    "plt.plot(epochs2, acc2, 'b', linestyle = 'dashdot', label='Training acc')\n",
    "plt.plot(epochs2, val_acc2, 'r', linewidth = '3', label='Validation acc')\n",
    "plt.title('Training and validation accuracy Model 2')\n",
    "plt.xlabel(\"epochs\")\n",
    "plt.ylabel(\"accuracy\")\n",
    "plt.legend()\n",
    "\n",
    "plt.figure()\n",
    "\n",
    "plt.plot(epochs2, loss2, 'b', linestyle = 'dashdot', label='Training loss')\n",
    "plt.plot(epochs2, val_loss2, 'r', linewidth = '3', label='Validation loss')\n",
    "plt.title('Training and validation loss Model 2')\n",
    "plt.xlabel(\"epochs\")\n",
    "plt.ylabel(\"loss\")\n",
    "plt.legend()\n",
    "\n",
    "plt.show()"
   ]
  },
  {
   "cell_type": "markdown",
   "id": "d7fb143c-6a3a-424f-8cd0-e9c9017409f6",
   "metadata": {},
   "source": [
    "                                                        DISCUSSING THE FIRST AND THE SECOND MODEL:\n",
    "In this section we will look at the first and second model and compare their results. How did they perform? Did we achieve any significant differences by changing the parameters of the model? What might be some potential errors the model did? How could we fix them?"
   ]
  },
  {
   "cell_type": "code",
   "execution_count": 62,
   "id": "34df1a1f-7d73-463a-bd27-b831cd765360",
   "metadata": {},
   "outputs": [
    {
     "data": {
      "text/html": [
       "<div>\n",
       "<style scoped>\n",
       "    .dataframe tbody tr th:only-of-type {\n",
       "        vertical-align: middle;\n",
       "    }\n",
       "\n",
       "    .dataframe tbody tr th {\n",
       "        vertical-align: top;\n",
       "    }\n",
       "\n",
       "    .dataframe thead th {\n",
       "        text-align: right;\n",
       "    }\n",
       "</style>\n",
       "<table border=\"1\" class=\"dataframe\">\n",
       "  <thead>\n",
       "    <tr style=\"text-align: right;\">\n",
       "      <th></th>\n",
       "      <th>MODEL 1</th>\n",
       "      <th>MODEL 2</th>\n",
       "    </tr>\n",
       "  </thead>\n",
       "  <tbody>\n",
       "    <tr>\n",
       "      <th>Features</th>\n",
       "      <td>POS-tags</td>\n",
       "      <td>Static embeddings</td>\n",
       "    </tr>\n",
       "    <tr>\n",
       "      <th>Layer 1</th>\n",
       "      <td>LSTM, units=64</td>\n",
       "      <td>LSTM, units=100</td>\n",
       "    </tr>\n",
       "    <tr>\n",
       "      <th>Layer 2</th>\n",
       "      <td>LSTM, units=32</td>\n",
       "      <td>-</td>\n",
       "    </tr>\n",
       "    <tr>\n",
       "      <th>Optimizer</th>\n",
       "      <td>rmsprop</td>\n",
       "      <td>ADAM</td>\n",
       "    </tr>\n",
       "    <tr>\n",
       "      <th>Batch size</th>\n",
       "      <td>64</td>\n",
       "      <td>32</td>\n",
       "    </tr>\n",
       "    <tr>\n",
       "      <th>Epochs</th>\n",
       "      <td>5</td>\n",
       "      <td>3</td>\n",
       "    </tr>\n",
       "    <tr>\n",
       "      <th>Train loss</th>\n",
       "      <td>0.0575</td>\n",
       "      <td>0.0568</td>\n",
       "    </tr>\n",
       "    <tr>\n",
       "      <th>Train acc</th>\n",
       "      <td>0.9826 (98,26%)</td>\n",
       "      <td>0.9827 (98,27%)</td>\n",
       "    </tr>\n",
       "    <tr>\n",
       "      <th>Val loss</th>\n",
       "      <td>0.0604</td>\n",
       "      <td>0.0550</td>\n",
       "    </tr>\n",
       "    <tr>\n",
       "      <th>Val acc</th>\n",
       "      <td>0.9818 (98,18%)</td>\n",
       "      <td>0.9830 (98,30%)</td>\n",
       "    </tr>\n",
       "    <tr>\n",
       "      <th>Test loss</th>\n",
       "      <td>0.0597</td>\n",
       "      <td>0.0566</td>\n",
       "    </tr>\n",
       "    <tr>\n",
       "      <th>Test acc</th>\n",
       "      <td>0.9822 (98,22%)</td>\n",
       "      <td>0.9825 (98,25%)</td>\n",
       "    </tr>\n",
       "  </tbody>\n",
       "</table>\n",
       "</div>"
      ],
      "text/plain": [
       "                    MODEL 1            MODEL 2\n",
       "Features           POS-tags  Static embeddings\n",
       "Layer 1      LSTM, units=64    LSTM, units=100\n",
       "Layer 2      LSTM, units=32                  -\n",
       "Optimizer           rmsprop               ADAM\n",
       "Batch size               64                 32\n",
       "Epochs                    5                  3\n",
       "Train loss           0.0575             0.0568\n",
       "Train acc   0.9826 (98,26%)    0.9827 (98,27%)\n",
       "Val loss             0.0604             0.0550\n",
       "Val acc     0.9818 (98,18%)    0.9830 (98,30%)\n",
       "Test loss            0.0597             0.0566\n",
       "Test acc    0.9822 (98,22%)    0.9825 (98,25%)"
      ]
     },
     "execution_count": 62,
     "metadata": {},
     "output_type": "execute_result"
    }
   ],
   "source": [
    "# To begin with, we will create a dataframe to illustrate the different parameters of the model.\n",
    "models_parameters = {\"MODEL 1\": [\"POS-tags\", \"LSTM, units=64\", \"LSTM, units=32\", \"rmsprop\", \"64\", \"5\", \"0.0575\", \"0.9826 (98,26%)\", \"0.0604\", \"0.9818 (98,18%)\", \"0.0597\", \"0.9822 (98,22%)\"],\n",
    "                     \"MODEL 2\": [\"Static embeddings\", \"LSTM, units=100\", \"-\", \"ADAM\", \"32\", \"3\", \"0.0568\", \"0.9827 (98,27%)\", \"0.0550\", \"0.9830 (98,30%)\", \"0.0566\", \"0.9825 (98,25%)\"] }\n",
    "\n",
    "rows = [\"Features\", \"Layer 1\", \"Layer 2\", \"Optimizer\", \"Batch size\", \"Epochs\", \"Train loss\", \"Train acc\", \"Val loss\", \"Val acc\", \"Test loss\", \"Test acc\"]\n",
    "\n",
    "df_models = pd.DataFrame(models_parameters, index=rows)\n",
    "\n",
    "df_models"
   ]
  },
  {
   "cell_type": "markdown",
   "id": "70cd1280-e969-49a6-b11f-70ddc1aa9695",
   "metadata": {},
   "source": [
    "                                                                FINAL THOUGHTS:\n",
    "In this notebook, we used a dataset to train three different models for Named Entity Recognition. We had to perform various pre-processing task to convert our dataset into an appropriate format to input it to our models. We compiled three different models: (1) multi-input with POS-tags and (2) static word embeddings. We have seen that both models perform very well. This performance, however, has to be taken with a grain of salt. First, our dataset we used for the model was skewed, the label classes wer imbalanced. Second, in the task of NER the most common label is non-entity which means when we train a model on predicting a NER-tag, we have to take this into account. Especially when we only look at the accuracy metrics we might get misleading results. A better way of approaching this is to also include F1 score in the evaluation of the model. \n",
    "\n",
    "In conclusion, working on this project was a great opportunity to experiment with keras and neural networks. I was able to learn a lot and put the theory to practice. "
   ]
  }
 ],
 "metadata": {
  "kernelspec": {
   "display_name": "Python 3 (ipykernel)",
   "language": "python",
   "name": "python3"
  },
  "language_info": {
   "codemirror_mode": {
    "name": "ipython",
    "version": 3
   },
   "file_extension": ".py",
   "mimetype": "text/x-python",
   "name": "python",
   "nbconvert_exporter": "python",
   "pygments_lexer": "ipython3",
   "version": "3.10.13"
  }
 },
 "nbformat": 4,
 "nbformat_minor": 5
}
